{
  "nbformat": 4,
  "nbformat_minor": 0,
  "metadata": {
    "colab": {
      "provenance": []
    },
    "kernelspec": {
      "name": "python3",
      "display_name": "Python 3"
    },
    "language_info": {
      "name": "python"
    }
  },
  "cells": [
    {
      "cell_type": "markdown",
      "source": [
        "### Implement perceptron learning rule"
      ],
      "metadata": {
        "id": "y1KBodauRz4U"
      }
    },
    {
      "cell_type": "markdown",
      "source": [
        "* A perceptron is a fundamental building block of artificial neural networks which consists of single layer\n",
        "* Perceptron Learning Rule is an algorithm used to train a perceptron, which is a type of artificial neural network unit that can be used for binary classification tasks."
      ],
      "metadata": {
        "id": "IpYgCl2tCYM_"
      }
    },
    {
      "cell_type": "markdown",
      "source": [
        "* init method initializes the perceptron with:\n",
        "* learning_rate: Controls how much the weights are adjusted during training.\n",
        "* n_iter: Number of iterations (or epochs) for training\n",
        "self.errors will keep track of the number of errors in each iteration.\n",
        "* update is calculated based on the difference between the actual target and the predicted target."
      ],
      "metadata": {
        "id": "73VpnlrAEu7J"
      }
    },
    {
      "cell_type": "code",
      "execution_count": null,
      "metadata": {
        "colab": {
          "base_uri": "https://localhost:8080/"
        },
        "id": "1ZmAW7U911Er",
        "outputId": "a02d6b71-702e-4814-ae42-edac773838f9"
      },
      "outputs": [
        {
          "output_type": "stream",
          "name": "stdout",
          "text": [
            "[ 1  1 -1 -1  1]\n",
            "Weights: [-0.2  1.  -0.6]\n",
            "Errors: [2, 2, 1, 4, 0, 0, 0, 0, 0, 0]\n"
          ]
        }
      ],
      "source": [
        "import numpy as np\n",
        "\n",
        "class Perceptron:\n",
        "    def __init__(self, learning_rate=0.01, n_iter=50):\n",
        "        self.learning_rate = learning_rate\n",
        "        self.n_iter = n_iter\n",
        "\n",
        "    def fit(self, X, y):\n",
        "        self.weights = np.zeros(1 + X.shape[1])\n",
        "        self.errors = []\n",
        "\n",
        "        for _ in range(self.n_iter):\n",
        "            errors = 0\n",
        "            for xi, target in zip(X, y):\n",
        "                update = self.learning_rate * (target - self.predict(xi))\n",
        "                self.weights[1:] += update * xi\n",
        "                self.weights[0] += update\n",
        "                errors += int(update != 0.0)\n",
        "            self.errors.append(errors)\n",
        "        return self\n",
        "\n",
        "    def net_input(self, X):\n",
        "        return np.dot(X, self.weights[1:]) + self.weights[0]\n",
        "\n",
        "    def predict(self, X):\n",
        "        return np.where(self.net_input(X) >= 0.0, 1, -1)\n",
        "\n",
        "# Example usage\n",
        "if __name__ == \"__main__\":\n",
        "    # Sample data\n",
        "    X = np.array([[2, 3], [4, 1], [1, 2], [2, 4], [3, 2]])\n",
        "    y = np.array([1, 1, -1, -1, 1])\n",
        "\n",
        "    # Create and train the perceptron\n",
        "    perceptron = Perceptron(learning_rate=0.1, n_iter=10)\n",
        "    perceptron.fit(X, y)\n",
        "\n",
        "    # Predict\n",
        "    print(perceptron.predict(X))\n",
        "    print(\"Weights:\", perceptron.weights)\n",
        "    print(\"Errors:\", perceptron.errors)\n"
      ]
    },
    {
      "cell_type": "markdown",
      "source": [
        "* __init__ method initializes the perceptron with:\n",
        "* learning_rate: Controls how much the weights are adjusted during training.\n",
        "* n_iter: Number of iterations (or epochs) for training\n",
        "* self.errors will keep track of the number of errors in each iteration.\n",
        "* update is calculated based on the difference between the actual target and the predicted target.\n",
        "*"
      ],
      "metadata": {
        "id": "0VDJoY_OS7HR"
      }
    },
    {
      "cell_type": "markdown",
      "source": [
        "**INFERENCE:**\n",
        "* [1, 1, -1, -1, 1]: This means it classified the first and second instances as class 1, the third and fourth instances as class -1, and the fifth instance as class 1.\n",
        "* [ -0.2, 1.0, -0.6].\n",
        "The weight -0.2 corresponds to the bias term, while 1.0 and -0.6 are associated with the two features of the input data.\n",
        "* [2, 2, 1, 4, 0, 0, 0, 0, 0, 0] indicates the number of misclassifications for each epoch."
      ],
      "metadata": {
        "id": "2JXdjJAoEIok"
      }
    }
  ]
}